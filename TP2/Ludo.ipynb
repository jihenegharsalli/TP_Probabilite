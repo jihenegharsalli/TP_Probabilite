{
 "cells": [
  {
   "attachments": {},
   "cell_type": "markdown",
   "metadata": {},
   "source": [
    "<table>\n",
    "    <thead>\n",
    "        <tr>\n",
    "            <th colspan=\"2\">TP2</th>\n",
    "        </tr>\n",
    "    </thead>\n",
    "    <tbody>\n",
    "        <tr>\n",
    "            <td>Nom et Prenom</td>\n",
    "            <td>Jihene Gharsalli</td>\n",
    "        </tr>\n",
    "        <tr> \n",
    "            <td>Classe</td>\n",
    "            <td>2LM2</td>\n",
    "        </tr>    \n",
    "    </tbody>\n",
    "</table>"
   ]
  },
  {
   "attachments": {},
   "cell_type": "markdown",
   "metadata": {},
   "source": [
    "### Simulation du lancé de dé"
   ]
  },
  {
   "cell_type": "code",
   "execution_count": 3,
   "metadata": {},
   "outputs": [
    {
     "data": {
      "text/plain": [
       "2"
      ]
     },
     "execution_count": 3,
     "metadata": {},
     "output_type": "execute_result"
    }
   ],
   "source": [
    "import numpy as np\n",
    "def Roll():\n",
    "    return int(np.random.choice([1,2,3,4,5,6],replace=True))\n",
    "Roll()"
   ]
  },
  {
   "cell_type": "code",
   "execution_count": 4,
   "metadata": {},
   "outputs": [],
   "source": [
    "def SIM(CIBLE):\n",
    "    pos=0\n",
    "    NBCOUP=0\n",
    "    temp=0\n",
    "    while temp!=6:\n",
    "        temp=Roll()\n",
    "        NBCOUP+=1\n",
    "        if temp!=6:\n",
    "            break\n",
    "    pos=1\n",
    "    while pos!=CIBLE:\n",
    "        temp=Roll()\n",
    "        NBCOUP+=1\n",
    "        if pos+temp==CIBLE:\n",
    "            pos=CIBLE\n",
    "        elif pos+temp<CIBLE:\n",
    "            pos+=temp\n",
    "        else:\n",
    "            pass        \n",
    "    return NBCOUP        \n"
   ]
  },
  {
   "attachments": {},
   "cell_type": "markdown",
   "metadata": {},
   "source": [
    "Voici un code pour calculer la moyenne de la simulation de 'Sim(20)' (c'est une approximation de E(X20))"
   ]
  },
  {
   "cell_type": "code",
   "execution_count": 5,
   "metadata": {},
   "outputs": [
    {
     "name": "stdout",
     "output_type": "stream",
     "text": [
      "11.2059\n"
     ]
    }
   ],
   "source": [
    "L20=[SIM(20)for i in range(50000)]\n",
    "moy20 = sum(L20)/50000\n",
    "print (moy20)"
   ]
  },
  {
   "cell_type": "code",
   "execution_count": 6,
   "metadata": {},
   "outputs": [],
   "source": [
    "cib=[20,25,30,35,40]\n",
    "moyenne=[sum([SIM(c)for i in range(50000)])/50000 for c in cib]"
   ]
  },
  {
   "attachments": {},
   "cell_type": "markdown",
   "metadata": {},
   "source": [
    "ou bien"
   ]
  },
  {
   "cell_type": "code",
   "execution_count": 17,
   "metadata": {},
   "outputs": [
    {
     "ename": "SyntaxError",
     "evalue": "invalid syntax (3539433058.py, line 6)",
     "output_type": "error",
     "traceback": [
      "\u001b[1;36m  Cell \u001b[1;32mIn [17], line 6\u001b[1;36m\u001b[0m\n\u001b[1;33m    pip install scipy\u001b[0m\n\u001b[1;37m        ^\u001b[0m\n\u001b[1;31mSyntaxError\u001b[0m\u001b[1;31m:\u001b[0m invalid syntax\n"
     ]
    }
   ],
   "source": [
    "#m=[]\n",
    "#for c in cib:\n",
    "    #m.append(sum([SIM(c)for i in range(50000)])/50000)\n",
    "    \n"
   ]
  },
  {
   "cell_type": "code",
   "execution_count": 7,
   "metadata": {},
   "outputs": [],
   "source": [
    "import scipy"
   ]
  },
  {
   "cell_type": "code",
   "execution_count": 8,
   "metadata": {},
   "outputs": [
    {
     "name": "stdout",
     "output_type": "stream",
     "text": [
      "0.28603760000000006 5.460183999999998\n"
     ]
    }
   ],
   "source": [
    "import matplotlib.pyplot as plt\n",
    "#pip install matplotlib\n",
    "from scipy import stats\n",
    "a,b,r_value,p_value,std_err =stats.linregress(cib,moyenne)\n",
    "print(a,b)"
   ]
  },
  {
   "attachments": {},
   "cell_type": "markdown",
   "metadata": {},
   "source": [
    "Voici le graphe qui montre la moyenne de chaque point"
   ]
  },
  {
   "cell_type": "code",
   "execution_count": 10,
   "metadata": {},
   "outputs": [
    {
     "data": {
      "image/png": "[encoded data removed]",
      "text/plain": [
       "<Figure size 640x480 with 1 Axes>"
      ]
     },
     "metadata": {},
     "output_type": "display_data"
    }
   ],
   "source": [
    "plt.plot(cib,moyenne)   #pour changer la couleur or :rouge    pour changer la forme *r   dr .....    o:pour la forme b:la couleur\n",
    "plt.show()"
   ]
  },
  {
   "attachments": {},
   "cell_type": "markdown",
   "metadata": {},
   "source": [
    "$\\mathbb{E}(X_n)$=0.28*n+11 "
   ]
  }
 ],
 "metadata": {
  "kernelspec": {
   "display_name": "Python 3.9.13 ('base')",
   "language": "python",
   "name": "python3"
  },
  "language_info": {
   "codemirror_mode": {
    "name": "ipython",
    "version": 3
   },
   "file_extension": ".py",
   "mimetype": "text/x-python",
   "name": "python",
   "nbconvert_exporter": "python",
   "pygments_lexer": "ipython3",
   "version": "3.9.13"
  },
  "orig_nbformat": 4,
  "vscode": {
   "interpreter": {
    "hash": "98aac92bb7f807a57294200b940a4ee7a25a3fb46c5014e34d163e7f63ce19c3"
   }
  }
 },
 "nbformat": 4,
 "nbformat_minor": 2
}
