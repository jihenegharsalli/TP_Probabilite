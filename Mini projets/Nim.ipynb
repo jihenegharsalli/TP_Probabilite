{
 "cells": [
  {
   "attachments": {},
   "cell_type": "markdown",
   "metadata": {},
   "source": [
    "<table>\n",
    "    <thead>\n",
    "        <tr>\n",
    "            <th colspan=\"2\">Mini Projet</th>\n",
    "        </tr>\n",
    "    </thead>\n",
    "    <tbody>\n",
    "        <tr>\n",
    "            <td>Nom et Prenom</td>\n",
    "            <td>Jihene Gharsalli</td>\n",
    "        </tr>\n",
    "        <tr> \n",
    "            <td>Classe</td>\n",
    "            <td>2LM2</td>\n",
    "        </tr>    \n",
    "    </tbody>\n",
    "</table>"
   ]
  },
  {
   "attachments": {},
   "cell_type": "markdown",
   "metadata": {},
   "source": [
    "<h1>Jeu de Nim </h1>"
   ]
  },
  {
   "attachments": {},
   "cell_type": "markdown",
   "metadata": {},
   "source": [
    "<h2>principe</h2>"
   ]
  },
  {
   "attachments": {},
   "cell_type": "markdown",
   "metadata": {},
   "source": [
    "Le jeu Nim est un jeu de stratégie à deux joueurs. Dans sa forme la plus simple, il se joue avec 20 allumettes et les joueurs se relaient pour en retirer 1 à 3 à chaque tour. Le joueur qui lui reste la dernière allumette perd la partie. "
   ]
  },
  {
   "attachments": {},
   "cell_type": "markdown",
   "metadata": {},
   "source": [
    "voici mon code "
   ]
  },
  {
   "cell_type": "code",
   "execution_count": 20,
   "metadata": {},
   "outputs": [
    {
     "name": "stdout",
     "output_type": "stream",
     "text": [
      "il reste 20 allumettes.\n",
      "le joueur 1 a choisi 1 allumettes\n",
      "le joueur 2 a choisi 2 allumettes\n",
      "il reste 17 allumettes.\n",
      "le joueur 1 a choisi 1 allumettes\n",
      "le joueur 2 a choisi 1 allumettes\n",
      "il reste 15 allumettes.\n",
      "le joueur 1 a choisi 1 allumettes\n",
      "le joueur 2 a choisi 3 allumettes\n",
      "il reste 11 allumettes.\n",
      "le joueur 1 a choisi 1 allumettes\n",
      "le joueur 2 a choisi 1 allumettes\n",
      "il reste 9 allumettes.\n",
      "le joueur 1 a choisi 3 allumettes\n",
      "le joueur 2 a choisi 2 allumettes\n",
      "il reste 4 allumettes.\n",
      "le joueur 1 a choisi 1 allumettes\n",
      "il reste 3 allumettes.\n",
      "le joueur 2 a choisi 2 allumettes\n",
      "il reste 1 allumette pour joueur 1 donc le joueur 2 est gagnant \n"
     ]
    }
   ],
   "source": [
    "import numpy as np\n",
    "nb=20\n",
    "L=[]\n",
    "t=1\n",
    "(\"le jeu commence avec 20 allumettes\")\n",
    "while nb>3:\n",
    "    print(\"il reste %d allumettes.\" % nb)\n",
    "    p1=np.random.choice([1,2,3])\n",
    "    print(\"le joueur 1 a choisi %d allumettes\"%p1)\n",
    "    L.append(p1)\n",
    "    nb=nb-p1\n",
    "    if(nb<=3):\n",
    "        t=2\n",
    "        break\n",
    "    p2=np.random.choice([1,2,3])\n",
    "    print(\"le joueur 2 a choisi %d allumettes\"%p2)\n",
    "    L.append(p2)\n",
    "    nb=nb-p2\n",
    "    if(nb<=3):\n",
    "        t=1\n",
    "        break\n",
    "  \n",
    "print(\"il reste %d allumettes.\" % nb)  \n",
    "if(nb==3):\n",
    "    if(t==1):\n",
    "        p1=np.random.choice([1,2])\n",
    "        print(\"le joueur 1 a choisi %d allumettes\"%p1)\n",
    "        nb=nb-p1\n",
    "        if(nb==1):\n",
    "            print(\"il reste %d allumette pour joueur 2 donc le joueur 1 est gagnant \"%nb)\n",
    "            \n",
    "        else:\n",
    "            p2=1\n",
    "            nb=nb-p2\n",
    "            print(\"le joueur 2 a choisi 1 allumette et a gagné\")  \n",
    "            print(\"il reste %d allumette pour joueur 1 donc le joueur 2 est gagnant \"%nb)  \n",
    "    else:\n",
    "        p2=np.random.choice([1,2]) \n",
    "        print(\"le joueur 2 a choisi %d allumettes\"%p2)\n",
    "        nb=nb-p2   \n",
    "        if(nb==1):\n",
    "            print(\"il reste %d allumette pour joueur 1 donc le joueur 2 est gagnant \"%nb)\n",
    "            \n",
    "        else:\n",
    "            p1=1\n",
    "            nb=nb-p1\n",
    "            print(\"le joueur 1 a choisi 1 allumette \")\n",
    "            print(\"il reste %d allumette pour joueur 2 donc le joueur 1 est gagnant \"%nb) \n",
    "elif(nb==2):     \n",
    "    if(t==1):\n",
    "        p1=1\n",
    "        nb=nb-p1\n",
    "        print(\"le joueur 1 a choisi 1 allumette \") \n",
    "        print(\"il reste %d allumette pour joueur 2 donc le joueur 1 est gagnant \"%nb) \n",
    "    else:\n",
    "        p2=1\n",
    "        nb=nb-p2\n",
    "        print(\"le joueur 2 a choisi 1 allumette \")    \n",
    "        print(\"il reste %d allumette pour joueur 1 donc le joueur 2 est gagnant \"%nb)\n",
    "else:\n",
    "    if(t==1):\n",
    "        print(\"il reste %d allumette pour joueur 1 donc le joueur 2 est gagnant \"%nb)\n",
    "        \n",
    "    else:\n",
    "        print(\"il reste %d allumette pour joueur 2 donc le joueur 1 est gagnant \"%nb)\n",
    "                 \n",
    "           "
   ]
  },
  {
   "attachments": {},
   "cell_type": "markdown",
   "metadata": {},
   "source": [
    "voici la fonction de ce code"
   ]
  },
  {
   "cell_type": "code",
   "execution_count": 15,
   "metadata": {},
   "outputs": [],
   "source": [
    "import numpy as np\n",
    "def Nim():\n",
    "    nb=20\n",
    "    L=[]\n",
    "    t=1\n",
    "    while nb>3:\n",
    "        p1=np.random.choice([1,2,3])\n",
    "        L.append(p1)\n",
    "        nb=nb-p1\n",
    "        if(nb<=3):\n",
    "            t=2\n",
    "            break\n",
    "        p2=np.random.choice([1,2,3])\n",
    "        L.append(p2)\n",
    "        nb=nb-p2\n",
    "        if(nb<=3):\n",
    "            t=1\n",
    "            break\n",
    "    if(nb==3):\n",
    "        if(t==1):\n",
    "            p1=np.random.choice([1,2])\n",
    "            nb=nb-p1\n",
    "            if(nb==1):\n",
    "                return(1)\n",
    "            else:\n",
    "                p2=1\n",
    "                nb=nb-p2 \n",
    "                return(2)\n",
    "        else:\n",
    "            p2=np.random.choice([1,2]) \n",
    "            nb=nb-p2   \n",
    "            if(nb==1):\n",
    "                return(2)\n",
    "            else:\n",
    "                p1=1\n",
    "                nb=nb-p1 \n",
    "                return(1)\n",
    "    elif(nb==2):     \n",
    "        if(t==1):\n",
    "            p1=1\n",
    "            nb=nb-p1\n",
    "            return(1)\n",
    "        else:\n",
    "            p2=1\n",
    "            nb=nb-p2\n",
    "            return(2)\n",
    "    else:\n",
    "        if(t==1):\n",
    "            return(2)\n",
    "        else:\n",
    "            return(1)\n",
    "                 \n",
    "           "
   ]
  },
  {
   "cell_type": "code",
   "execution_count": 16,
   "metadata": {},
   "outputs": [
    {
     "data": {
      "text/plain": [
       "2"
      ]
     },
     "execution_count": 16,
     "metadata": {},
     "output_type": "execute_result"
    }
   ],
   "source": [
    "Nim()"
   ]
  },
  {
   "attachments": {},
   "cell_type": "markdown",
   "metadata": {},
   "source": [
    "la fonction \"sim\" permet se simuler le jeu K fois pour calculer la probabilité du gain de chaque joueur"
   ]
  },
  {
   "cell_type": "code",
   "execution_count": 32,
   "metadata": {},
   "outputs": [],
   "source": [
    "def sim(k):\n",
    "    L=[Nim() for i in range(k)];\n",
    "    perc1=L.count(1)/k *100\n",
    "    perc2=L.count(2)/k *100\n",
    "    print(f'%1={perc1}%  |   %2={perc2}%')"
   ]
  },
  {
   "cell_type": "code",
   "execution_count": 34,
   "metadata": {},
   "outputs": [
    {
     "name": "stdout",
     "output_type": "stream",
     "text": [
      "%1=49.866%  |   %2=50.134%\n"
     ]
    }
   ],
   "source": [
    "sim(50000)"
   ]
  },
  {
   "attachments": {},
   "cell_type": "markdown",
   "metadata": {},
   "source": [
    "Tant que les deux joueurs jouent aleatroirement sans une strategie, la probabilite du gain de chaque jouer est presque 50%.\n"
   ]
  },
  {
   "attachments": {},
   "cell_type": "markdown",
   "metadata": {},
   "source": [
    "<h2>jeu Nim avec Strategie</h2>"
   ]
  },
  {
   "cell_type": "code",
   "execution_count": 13,
   "metadata": {},
   "outputs": [
    {
     "name": "stdout",
     "output_type": "stream",
     "text": [
      "il reste 20 allumettes.\n",
      "le joueur 1 a choisi 3 allumettes\n",
      "le joueur 2 a choisi 3 allumettes\n",
      "il reste 14 allumettes.\n",
      "le joueur 1 a choisi 3 allumettes\n",
      "le joueur 2 a choisi 2 allumettes\n",
      "il reste 9 allumettes.\n",
      "le joueur 1 a choisi 3 allumettes\n",
      "le joueur 2 a choisi 3 allumettes\n",
      "il reste 3 allumettes.\n",
      "le joueur 1 a choisi 2 allumettes \n",
      "il reste 1 allumette pour joueur 2 donc le joueur 1 est gagnant \n"
     ]
    }
   ],
   "source": [
    "import numpy as np\n",
    "nb=20\n",
    "L=[]\n",
    "t=1\n",
    "(\"le jeu commence avec 20 allumettes\")\n",
    "while nb>5:\n",
    "    print(\"il reste %d allumettes.\" % nb)\n",
    "    p1=3\n",
    "    print(\"le joueur 1 a choisi %d allumettes\"%p1)\n",
    "    L.append(p1)\n",
    "    nb=nb-p1\n",
    "    if(nb<=5):\n",
    "        t=2\n",
    "        break\n",
    "    p2=np.random.choice([1,2,3])\n",
    "    print(\"le joueur 2 a choisi %d allumettes\"%p2)\n",
    "    L.append(p2)\n",
    "    nb=nb-p2\n",
    "    if(nb<=5):\n",
    "        t=1\n",
    "        break\n",
    "print(\"il reste %d allumettes.\" % nb)  \n",
    "if(nb==5):\n",
    "    if(t==1):\n",
    "        p1=2\n",
    "        nb=nb-p1\n",
    "        print(\"le joueur 1 a choisi 2 allumettes \") \n",
    "        p2=1\n",
    "        nb=nb-p2\n",
    "        print(\"le joueur 2 a choisi 1 allumette \") \n",
    "        print(\"il reste %d allumettes.\" % nb)  \n",
    "        p1=1\n",
    "        nb=nb-p1\n",
    "        print(\"le joueur 1 a choisi 1 allumette \") \n",
    "        print(\"il reste %d allumette pour joueur 2 donc le joueur 1 est gagnant \"%nb) \n",
    "    else:\n",
    "        p2=p2=np.random.choice([1,2,3])\n",
    "        print(\"le joueur 2 a choisi %d allumettes \"%p2) \n",
    "        nb=nb-p2\n",
    "        if(nb==2):\n",
    "            p1=1\n",
    "            nb=nb-p1\n",
    "            print(\"le joueur 1 a choisi 1 allumette \") \n",
    "            print(\"il reste %d allumette pour joueur 2 donc le joueur 1 est gagnant \"%nb) \n",
    "        elif(nb==3) :\n",
    "            p1=2\n",
    "            nb=nb-p1   \n",
    "            print(\"le joueur 1 a choisi %d allumettes \"%p1) \n",
    "            print(\"il reste %d allumette pour joueur 2 donc le joueur 1 est gagnant \"%nb) \n",
    "        else:\n",
    "            p1=3    \n",
    "            nb=nb-p1   \n",
    "            print(\"le joueur 1 a choisi %d allumettes \"%p1) \n",
    "            print(\"il reste %d allumette pour joueur 2 donc le joueur 1 est gagnant \"%nb)   \n",
    "elif(nb==4):\n",
    "    if(t==1):\n",
    "        p1=3\n",
    "        nb=nb-p1   \n",
    "        print(\"le joueur 1 a choisi %d allumettes \"%p1) \n",
    "        print(\"il reste %d allumette pour joueur 2 donc le joueur 1 est gagnant \"%nb) \n",
    "    else:\n",
    "        p2=p2=np.random.choice([1,2])\n",
    "        print(\"le joueur 2 a choisi %d allumettes \"%p2) \n",
    "        nb=nb-p2\n",
    "        if(nb==2):\n",
    "            p1=1\n",
    "            nb=nb-p1\n",
    "            print(\"le joueur 1 a choisi %d allumettes \"%p1) \n",
    "            print(\"il reste %d allumette pour joueur 2 donc le joueur 1 est gagnant \"%nb) \n",
    "        else:\n",
    "            p1=2    \n",
    "            nb=nb-p1\n",
    "            print(\"le joueur 1 a choisi %d allumettes \"%p1) \n",
    "            print(\"il reste %d allumette pour joueur 2 donc le joueur 1 est gagnant \"%nb) \n",
    "elif(nb==3):\n",
    "    if(t==1):\n",
    "        p1=2\n",
    "        nb=nb-p1   \n",
    "        print(\"le joueur 1 a choisi %d allumettes \"%p1) \n",
    "        print(\"il reste %d allumette pour joueur 2 donc le joueur 1 est gagnant \"%nb) \n",
    "    else:\n",
    "        p2=1\n",
    "        nb=nb-p2\n",
    "        print(\"le joueur 2 a choisi 1 allumette \") \n",
    "        p1=1\n",
    "        nb=nb-p1\n",
    "        print(\"le joueur 1 a choisi %d allumettes \"%p1) \n",
    "        print(\"il reste %d allumette pour joueur 2 donc le joueur 1 est gagnant \"%nb) \n",
    "elif(nb==2):\n",
    "    if(t==1):\n",
    "        p1=1        \n",
    "        nb=nb-p1\n",
    "        print(\"le joueur 1 a choisi %d allumettes \"%p1) \n",
    "        print(\"il reste %d allumette pour joueur 2 donc le joueur 1 est gagnant \"%nb) \n",
    "    else:\n",
    "        p2=1\n",
    "        nb=nb-p2             \n",
    "        print(\"le joueur 2 a choisi %d allumettes \"%p1) \n",
    "        print(\"il reste %d allumette pour joueur 1 donc le joueur 2 est gagnant \"%nb) \n",
    "else:\n",
    "    if(t==1):\n",
    "        print(\"il reste %d allumette pour joueur 1 donc le joueur 2 est gagnant \"%nb)\n",
    "    else:\n",
    "        print(\"il reste %d allumette pour joueur 2 donc le joueur 1 est gagnant \"%nb)                   "
   ]
  },
  {
   "attachments": {},
   "cell_type": "markdown",
   "metadata": {},
   "source": [
    "voici la fonction de ce code"
   ]
  },
  {
   "cell_type": "code",
   "execution_count": 22,
   "metadata": {},
   "outputs": [],
   "source": [
    "import numpy as np\n",
    "def Snim():\n",
    "    nb=20\n",
    "    L=[]\n",
    "    t=1\n",
    "    while nb>5:\n",
    "        p1=3\n",
    "        L.append(p1)\n",
    "        nb=nb-p1\n",
    "        if(nb<=5):\n",
    "            t=2\n",
    "            break\n",
    "        p2=np.random.choice([1,2,3])\n",
    "        L.append(p2)\n",
    "        nb=nb-p2\n",
    "        if(nb<=5):\n",
    "            t=1\n",
    "            break\n",
    "    if(nb==5):\n",
    "        if(t==1):\n",
    "            p1=2\n",
    "            nb=nb-p1\n",
    "            p2=1\n",
    "            nb=nb-p2\n",
    "            p1=1\n",
    "            nb=nb-p1\n",
    "            return (1)\n",
    "        else:\n",
    "            p2=p2=np.random.choice([1,2,3])\n",
    "            nb=nb-p2\n",
    "            if(nb==2):\n",
    "                p1=1\n",
    "                nb=nb-p1\n",
    "                return(1)\n",
    "            elif(nb==3) :\n",
    "                p1=2\n",
    "                nb=nb-p1   \n",
    "                return(1)\n",
    "            else:\n",
    "                p1=3    \n",
    "                nb=nb-p1   \n",
    "                return(1)\n",
    "    elif(nb==4):\n",
    "        if(t==1):\n",
    "            p1=3\n",
    "            nb=nb-p1   \n",
    "            return(1)\n",
    "        else:\n",
    "            p2=p2=np.random.choice([1,2])\n",
    "            nb=nb-p2\n",
    "            if(nb==2):\n",
    "                p1=1\n",
    "                nb=nb-p1\n",
    "                return(1)\n",
    "            else:\n",
    "                p1=2    \n",
    "                nb=nb-p1\n",
    "                return(1)\n",
    "    elif(nb==3):\n",
    "        if(t==1):\n",
    "            p1=2\n",
    "            nb=nb-p1   \n",
    "            return(1)\n",
    "        else:\n",
    "            p2=1\n",
    "            nb=nb-p2\n",
    "            p1=1\n",
    "            nb=nb-p1\n",
    "            return(1)\n",
    "    elif(nb==2):\n",
    "        if(t==1):\n",
    "            p1=1        \n",
    "            nb=nb-p1\n",
    "            return(1)\n",
    "        else:\n",
    "            p2=1\n",
    "            nb=nb-p2             \n",
    "            return(2)\n",
    "    else:\n",
    "        if(t==1):\n",
    "            return(2)\n",
    "        else:\n",
    "            return(1)"
   ]
  },
  {
   "cell_type": "code",
   "execution_count": 25,
   "metadata": {},
   "outputs": [
    {
     "data": {
      "text/plain": [
       "1"
      ]
     },
     "execution_count": 25,
     "metadata": {},
     "output_type": "execute_result"
    }
   ],
   "source": [
    "Snim()"
   ]
  },
  {
   "attachments": {},
   "cell_type": "markdown",
   "metadata": {},
   "source": [
    "la fonction \"Ssim\" permet se simuler le jeu K fois pour calculer la probabilité du gain de chaque joueur"
   ]
  },
  {
   "cell_type": "code",
   "execution_count": 27,
   "metadata": {},
   "outputs": [],
   "source": [
    "def Ssim(k):\n",
    "    L=[Snim() for i in range(k)];\n",
    "    perc1=L.count(1)/k *100\n",
    "    perc2=L.count(2)/k *100\n",
    "    print(f'%1={perc1}%  |   %2={perc2}%')"
   ]
  },
  {
   "cell_type": "code",
   "execution_count": 30,
   "metadata": {},
   "outputs": [
    {
     "name": "stdout",
     "output_type": "stream",
     "text": [
      "%1=100.0%  |   %2=0.0%\n"
     ]
    }
   ],
   "source": [
    "Ssim(50000)"
   ]
  },
  {
   "attachments": {},
   "cell_type": "markdown",
   "metadata": {},
   "source": [
    "Maintenant , le joueur 1 est 100% le gagnant"
   ]
  }
 ],
 "metadata": {
  "kernelspec": {
   "display_name": "Python 3.10.8 64-bit (microsoft store)",
   "language": "python",
   "name": "python3"
  },
  "language_info": {
   "codemirror_mode": {
    "name": "ipython",
    "version": 3
   },
   "file_extension": ".py",
   "mimetype": "text/x-python",
   "name": "python",
   "nbconvert_exporter": "python",
   "pygments_lexer": "ipython3",
   "version": "3.10.9"
  },
  "orig_nbformat": 4,
  "vscode": {
   "interpreter": {
    "hash": "31d6215fe9fe5063b1681987f9b7be365dfc95a5be3e0e5f6bc19eb295399463"
   }
  }
 },
 "nbformat": 4,
 "nbformat_minor": 2
}
