{
 "cells": [
  {
   "attachments": {},
   "cell_type": "markdown",
   "metadata": {},
   "source": [
    "<table>\n",
    "    <thead>\n",
    "        <tr>\n",
    "            <th colspan=\"2\">Rock,Paper,Scissors</th>\n",
    "        </tr>\n",
    "    </thead>\n",
    "    <tbody>\n",
    "        <tr>\n",
    "            <td>Nom et Prenom</td>\n",
    "            <td>Jihene Gharsalli</td>\n",
    "        </tr>\n",
    "        <tr> \n",
    "            <td>Classe</td>\n",
    "            <td>2LM2</td>\n",
    "        </tr>    \n",
    "    </tbody>\n",
    "</table>"
   ]
  },
  {
   "attachments": {},
   "cell_type": "markdown",
   "metadata": {},
   "source": [
    "<h1>Rock Paper Scissors</h1>"
   ]
  },
  {
   "attachments": {},
   "cell_type": "markdown",
   "metadata": {},
   "source": [
    "<h2>Principe</h2>"
   ]
  },
  {
   "attachments": {},
   "cell_type": "markdown",
   "metadata": {},
   "source": [
    "Rock Paper Scissors est un jeu traditionnel joué avec les mains. Le but du jeu est de battre l'adversaire en choisissant la bonne combinaison de gestes : pierre bat les ciseaux, papier bat la pierre et ciseaux bat le papier. \n",
    "si le geste est le meme pour les deux joueurs: le match est nul"
   ]
  },
  {
   "attachments": {},
   "cell_type": "markdown",
   "metadata": {},
   "source": [
    "voici le code"
   ]
  },
  {
   "cell_type": "code",
   "execution_count": 2,
   "metadata": {},
   "outputs": [
    {
     "name": "stdout",
     "output_type": "stream",
     "text": [
      "le joueur 1 a choisi  P et joueur2 a choisi P :match null\n"
     ]
    }
   ],
   "source": [
    "import numpy as np\n",
    "#R=Rock,P=Paper,S=Scissors\n",
    "p1=np.random.choice(['R','P','S'])\n",
    "p2=np.random.choice(['R','P','S'])\n",
    "if(p1=='R'and p2=='S')or(p1=='P' and p2=='R')or(p1=='S' and p2=='P'):\n",
    "    print(\"le joueur 1 a choisi \",p1,\"gagne joueur2 qui a choisi\",p2)\n",
    "elif(p1==p2):\n",
    "    print(\"le joueur 1 a choisi \",p1,\"et joueur2 a choisi\",p2,\":match null\")  \n",
    "else:\n",
    "    print(\"le joueur 2 a choisi \",p2,\"gagne joueur1 qui a choisi\",p1)   \n",
    "    \n"
   ]
  },
  {
   "attachments": {},
   "cell_type": "markdown",
   "metadata": {},
   "source": [
    "voici la fonction RPS de ce code"
   ]
  },
  {
   "cell_type": "code",
   "execution_count": 4,
   "metadata": {},
   "outputs": [],
   "source": [
    "import numpy as np\n",
    "def RPS():\n",
    "    p1=np.random.choice(['R','P','S'])\n",
    "    p2=np.random.choice(['R','P','S'])\n",
    "    if(p1=='R'and p2=='S')or(p1=='P' and p2=='R')or(p1=='S' and p2=='P'):\n",
    "        return(1)\n",
    "    elif(p1==p2):  \n",
    "        return(0) \n",
    "    else:\n",
    "        return(2)  "
   ]
  },
  {
   "cell_type": "code",
   "execution_count": 5,
   "metadata": {},
   "outputs": [
    {
     "data": {
      "text/plain": [
       "2"
      ]
     },
     "execution_count": 5,
     "metadata": {},
     "output_type": "execute_result"
    }
   ],
   "source": [
    "RPS()"
   ]
  },
  {
   "attachments": {},
   "cell_type": "markdown",
   "metadata": {},
   "source": [
    "voici la fonction \"sim\" qui nous permet de simuler k fois le jeu pour pouvoir calculer les probabilités"
   ]
  },
  {
   "cell_type": "code",
   "execution_count": 24,
   "metadata": {},
   "outputs": [],
   "source": [
    "def sim(k):\n",
    "    L=[RPS() for i in range(k)];\n",
    "    perc1=L.count(1)/k *100\n",
    "    perc2=L.count(2)/k *100\n",
    "    percx=100.0-(perc1+perc2)\n",
    "    print(f'%1={perc1}%  |  %x={percx}%  |  %2={perc2}%')"
   ]
  },
  {
   "cell_type": "code",
   "execution_count": 27,
   "metadata": {},
   "outputs": [
    {
     "name": "stdout",
     "output_type": "stream",
     "text": [
      "%1=30.0%  |  %x=40.0%  |  %2=30.0%\n"
     ]
    }
   ],
   "source": [
    "sim(20)"
   ]
  },
  {
   "attachments": {},
   "cell_type": "markdown",
   "metadata": {},
   "source": [
    "On constate que les probabilités sont presques egaux."
   ]
  },
  {
   "attachments": {},
   "cell_type": "markdown",
   "metadata": {},
   "source": [
    "Maintenant, on va changer la strategie du joueur 1 , il va choisir toujours \"Rock\" et on va calculer les probabilités "
   ]
  },
  {
   "cell_type": "code",
   "execution_count": 1,
   "metadata": {},
   "outputs": [],
   "source": [
    "import numpy as np\n",
    "def RRPS():\n",
    "    p1='R'\n",
    "    p2=np.random.choice(['R','P','S'])\n",
    "    if(p2=='P'):\n",
    "        return(2)\n",
    "    elif(p1==p2):\n",
    "        return(0)\n",
    "    else:\n",
    "        return(1)\n"
   ]
  },
  {
   "cell_type": "code",
   "execution_count": 4,
   "metadata": {},
   "outputs": [
    {
     "data": {
      "text/plain": [
       "1"
      ]
     },
     "execution_count": 4,
     "metadata": {},
     "output_type": "execute_result"
    }
   ],
   "source": [
    "RRPS()"
   ]
  },
  {
   "cell_type": "code",
   "execution_count": 28,
   "metadata": {},
   "outputs": [],
   "source": [
    "def simR(k):\n",
    "    L=[RRPS() for i in range(k)];\n",
    "    perc1=L.count(1)/k *100\n",
    "    perc2=L.count(2)/k *100\n",
    "    percx=100.0-(perc1+perc2)\n",
    "    print(f'%1={perc1}%  |  %x={percx}%  |  %2={perc2}%')"
   ]
  },
  {
   "cell_type": "code",
   "execution_count": 37,
   "metadata": {},
   "outputs": [
    {
     "name": "stdout",
     "output_type": "stream",
     "text": [
      "%1=33.316%  |  %x=33.626000000000005%  |  %2=33.058%\n"
     ]
    }
   ],
   "source": [
    "simR(50000)"
   ]
  },
  {
   "attachments": {},
   "cell_type": "markdown",
   "metadata": {},
   "source": [
    "Malgré qu'on a changer la strategie pour le joueur 1,les probabilités restent les mémes."
   ]
  },
  {
   "attachments": {},
   "cell_type": "markdown",
   "metadata": {},
   "source": [
    "Cette fois , le joueur 1 va choisir toujours \"Paper\""
   ]
  },
  {
   "cell_type": "code",
   "execution_count": 31,
   "metadata": {},
   "outputs": [],
   "source": [
    "import numpy as np\n",
    "def PRPS():\n",
    "    p1='P'\n",
    "    p2=np.random.choice(['R','P','S'])\n",
    "    if(p2=='S'):\n",
    "        return(2)\n",
    "    elif(p1==p2):\n",
    "        return(0)\n",
    "    else:\n",
    "        return(1)\n"
   ]
  },
  {
   "cell_type": "code",
   "execution_count": 8,
   "metadata": {},
   "outputs": [
    {
     "data": {
      "text/plain": [
       "1"
      ]
     },
     "execution_count": 8,
     "metadata": {},
     "output_type": "execute_result"
    }
   ],
   "source": [
    "PRPS()"
   ]
  },
  {
   "cell_type": "code",
   "execution_count": 33,
   "metadata": {},
   "outputs": [],
   "source": [
    "def simP(k):\n",
    "    L=[PRPS() for i in range(k)];\n",
    "    perc1=L.count(1)/k *100\n",
    "    perc2=L.count(2)/k *100\n",
    "    percx=100.0-(perc1+perc2)\n",
    "    print(f'%1={perc1}%  |  %x={percx}%  |  %2={perc2}%')"
   ]
  },
  {
   "cell_type": "code",
   "execution_count": 38,
   "metadata": {},
   "outputs": [
    {
     "name": "stdout",
     "output_type": "stream",
     "text": [
      "%1=33.245999999999995%  |  %x=33.56800000000001%  |  %2=33.186%\n"
     ]
    }
   ],
   "source": [
    "simP(50000)"
   ]
  },
  {
   "attachments": {},
   "cell_type": "markdown",
   "metadata": {},
   "source": [
    "On constate meme resultat"
   ]
  },
  {
   "cell_type": "code",
   "execution_count": 11,
   "metadata": {},
   "outputs": [],
   "source": [
    "import numpy as np\n",
    "def SRPS():\n",
    "    p1='S'\n",
    "    p2=np.random.choice(['R','P','S'])\n",
    "    if(p2=='R'):\n",
    "        return(2)\n",
    "    elif(p1==p2):\n",
    "        return(0)\n",
    "    else:\n",
    "        return(1)"
   ]
  },
  {
   "cell_type": "code",
   "execution_count": 12,
   "metadata": {},
   "outputs": [
    {
     "data": {
      "text/plain": [
       "1"
      ]
     },
     "execution_count": 12,
     "metadata": {},
     "output_type": "execute_result"
    }
   ],
   "source": [
    "SRPS()"
   ]
  },
  {
   "cell_type": "code",
   "execution_count": 35,
   "metadata": {},
   "outputs": [],
   "source": [
    "def simS(k):\n",
    "    L=[SRPS() for i in range(k)];\n",
    "    perc1=L.count(1)/k *100\n",
    "    perc2=L.count(2)/k *100\n",
    "    percx=100.0-(perc1+perc2)\n",
    "    print(f'%1={perc1}%  |  %x={percx}%  |  %2={perc2}%')"
   ]
  },
  {
   "cell_type": "code",
   "execution_count": 40,
   "metadata": {},
   "outputs": [
    {
     "name": "stdout",
     "output_type": "stream",
     "text": [
      "%1=33.198%  |  %x=33.25%  |  %2=33.552%\n"
     ]
    }
   ],
   "source": [
    "simS(50000)"
   ]
  },
  {
   "attachments": {},
   "cell_type": "markdown",
   "metadata": {},
   "source": [
    "meme resultat"
   ]
  }
 ],
 "metadata": {
  "kernelspec": {
   "display_name": "Python 3.10.8 64-bit (microsoft store)",
   "language": "python",
   "name": "python3"
  },
  "language_info": {
   "codemirror_mode": {
    "name": "ipython",
    "version": 3
   },
   "file_extension": ".py",
   "mimetype": "text/x-python",
   "name": "python",
   "nbconvert_exporter": "python",
   "pygments_lexer": "ipython3",
   "version": "3.10.9 (tags/v3.10.9:1dd9be6, Dec  6 2022, 20:01:21) [MSC v.1934 64 bit (AMD64)]"
  },
  "orig_nbformat": 4,
  "vscode": {
   "interpreter": {
    "hash": "31d6215fe9fe5063b1681987f9b7be365dfc95a5be3e0e5f6bc19eb295399463"
   }
  }
 },
 "nbformat": 4,
 "nbformat_minor": 2
}
